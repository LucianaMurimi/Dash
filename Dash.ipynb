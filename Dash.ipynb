{
 "cells": [
  {
   "cell_type": "markdown",
   "metadata": {},
   "source": [
    "In order to start using Dash, we have to install several packages:\n",
    "\n",
    "- The core dash backend.\n",
    "- Dash front-end\n",
    "- Dash HTML components\n",
    "- Dash core components\n",
    "- Plotly"
   ]
  },
  {
   "cell_type": "code",
   "execution_count": 2,
   "metadata": {},
   "outputs": [
    {
     "name": "stdout",
     "output_type": "stream",
     "text": [
      "Collecting dash==0.21.1\n",
      "  Downloading https://files.pythonhosted.org/packages/db/08/5bc503722a3d430ed01c5c75d754c8cdae6f6c2d83c10b48987a6a41af02/dash-0.21.1.tar.gz\n",
      "Requirement already satisfied: Flask>=0.12 in c:\\users\\luci\\anaconda_\\lib\\site-packages (from dash==0.21.1) (1.1.1)\n",
      "Requirement already satisfied: flask-compress in c:\\users\\luci\\anaconda_\\lib\\site-packages (from dash==0.21.1) (1.4.0)\n",
      "Requirement already satisfied: plotly in c:\\users\\luci\\anaconda_\\lib\\site-packages (from dash==0.21.1) (4.5.3)\n",
      "Requirement already satisfied: itsdangerous>=0.24 in c:\\users\\luci\\anaconda_\\lib\\site-packages (from Flask>=0.12->dash==0.21.1) (1.1.0)\n",
      "Requirement already satisfied: Werkzeug>=0.15 in c:\\users\\luci\\anaconda_\\lib\\site-packages (from Flask>=0.12->dash==0.21.1) (0.15.4)\n",
      "Requirement already satisfied: Jinja2>=2.10.1 in c:\\users\\luci\\anaconda_\\lib\\site-packages (from Flask>=0.12->dash==0.21.1) (2.10.1)\n",
      "Requirement already satisfied: click>=5.1 in c:\\users\\luci\\anaconda_\\lib\\site-packages (from Flask>=0.12->dash==0.21.1) (7.0)\n",
      "Requirement already satisfied: retrying>=1.3.3 in c:\\users\\luci\\anaconda_\\lib\\site-packages (from plotly->dash==0.21.1) (1.3.3)\n",
      "Requirement already satisfied: six in c:\\users\\luci\\anaconda_\\lib\\site-packages (from plotly->dash==0.21.1) (1.12.0)\n",
      "Requirement already satisfied: MarkupSafe>=0.23 in c:\\users\\luci\\anaconda_\\lib\\site-packages (from Jinja2>=2.10.1->Flask>=0.12->dash==0.21.1) (1.1.1)\n",
      "Building wheels for collected packages: dash\n",
      "  Building wheel for dash (setup.py): started\n",
      "  Building wheel for dash (setup.py): finished with status 'done'\n",
      "  Stored in directory: C:\\Users\\Luci\\AppData\\Local\\pip\\Cache\\wheels\\79\\4e\\43\\d38542943cc58ce490e4f204298b511e6a22891236eb2f19e1\n",
      "Successfully built dash\n",
      "Installing collected packages: dash\n",
      "  Found existing installation: dash 1.9.1\n",
      "    Uninstalling dash-1.9.1:\n",
      "      Successfully uninstalled dash-1.9.1\n",
      "Successfully installed dash-0.21.1\n",
      "Collecting dash-renderer==0.13.0\n",
      "  Downloading https://files.pythonhosted.org/packages/98/12/8176efede4139bc31b076b0e44a0f4cb002ead600ea4fd84e2ac8afd81cc/dash_renderer-0.13.0.tar.gz (160kB)\n",
      "Building wheels for collected packages: dash-renderer\n",
      "  Building wheel for dash-renderer (setup.py): started\n",
      "  Building wheel for dash-renderer (setup.py): finished with status 'done'\n",
      "  Stored in directory: C:\\Users\\Luci\\AppData\\Local\\pip\\Cache\\wheels\\b4\\b3\\65\\c4985d8d3394311d4b6e15c02c12dc963b28590c3048d01c77\n",
      "Successfully built dash-renderer\n",
      "Installing collected packages: dash-renderer\n",
      "  Found existing installation: dash-renderer 1.2.4\n",
      "    Uninstalling dash-renderer-1.2.4:\n",
      "      Successfully uninstalled dash-renderer-1.2.4\n",
      "Successfully installed dash-renderer-0.13.0\n",
      "Collecting dash-html-components==0.11.0\n",
      "  Downloading https://files.pythonhosted.org/packages/cd/7d/9660cc8c763f87b69301100e2f9a9c373b5a14782547b0d80e039cc3e0e3/dash_html_components-0.11.0.tar.gz\n",
      "Requirement already satisfied: dash in c:\\users\\luci\\anaconda_\\lib\\site-packages (from dash-html-components==0.11.0) (0.21.1)\n",
      "Requirement already satisfied: flask-compress in c:\\users\\luci\\anaconda_\\lib\\site-packages (from dash->dash-html-components==0.11.0) (1.4.0)\n",
      "Requirement already satisfied: Flask>=0.12 in c:\\users\\luci\\anaconda_\\lib\\site-packages (from dash->dash-html-components==0.11.0) (1.1.1)\n",
      "Requirement already satisfied: plotly in c:\\users\\luci\\anaconda_\\lib\\site-packages (from dash->dash-html-components==0.11.0) (4.5.3)\n",
      "Requirement already satisfied: Werkzeug>=0.15 in c:\\users\\luci\\anaconda_\\lib\\site-packages (from Flask>=0.12->dash->dash-html-components==0.11.0) (0.15.4)\n",
      "Requirement already satisfied: Jinja2>=2.10.1 in c:\\users\\luci\\anaconda_\\lib\\site-packages (from Flask>=0.12->dash->dash-html-components==0.11.0) (2.10.1)\n",
      "Requirement already satisfied: itsdangerous>=0.24 in c:\\users\\luci\\anaconda_\\lib\\site-packages (from Flask>=0.12->dash->dash-html-components==0.11.0) (1.1.0)\n",
      "Requirement already satisfied: click>=5.1 in c:\\users\\luci\\anaconda_\\lib\\site-packages (from Flask>=0.12->dash->dash-html-components==0.11.0) (7.0)\n",
      "Requirement already satisfied: six in c:\\users\\luci\\anaconda_\\lib\\site-packages (from plotly->dash->dash-html-components==0.11.0) (1.12.0)\n",
      "Requirement already satisfied: retrying>=1.3.3 in c:\\users\\luci\\anaconda_\\lib\\site-packages (from plotly->dash->dash-html-components==0.11.0) (1.3.3)\n",
      "Requirement already satisfied: MarkupSafe>=0.23 in c:\\users\\luci\\anaconda_\\lib\\site-packages (from Jinja2>=2.10.1->Flask>=0.12->dash->dash-html-components==0.11.0) (1.1.1)\n",
      "Building wheels for collected packages: dash-html-components\n",
      "  Building wheel for dash-html-components (setup.py): started\n",
      "  Building wheel for dash-html-components (setup.py): finished with status 'done'\n",
      "  Stored in directory: C:\\Users\\Luci\\AppData\\Local\\pip\\Cache\\wheels\\bb\\fb\\8a\\96aa90e26c373598c43e7b641873c411539407a51487baf310\n",
      "Successfully built dash-html-components\n",
      "Installing collected packages: dash-html-components\n",
      "  Found existing installation: dash-html-components 1.0.2\n",
      "    Uninstalling dash-html-components-1.0.2:\n",
      "      Successfully uninstalled dash-html-components-1.0.2\n",
      "Successfully installed dash-html-components-0.11.0\n",
      "Collecting dash-core-components==0.23.0\n",
      "  Downloading https://files.pythonhosted.org/packages/13/7d/cd4f5ee972e80e90d71e53f055df5546074902e93ca986caeb980eea7a08/dash_core_components-0.23.0.tar.gz (2.0MB)\n",
      "Requirement already satisfied: dash in c:\\users\\luci\\anaconda_\\lib\\site-packages (from dash-core-components==0.23.0) (0.21.1)\n",
      "Requirement already satisfied: flask-compress in c:\\users\\luci\\anaconda_\\lib\\site-packages (from dash->dash-core-components==0.23.0) (1.4.0)\n",
      "Requirement already satisfied: Flask>=0.12 in c:\\users\\luci\\anaconda_\\lib\\site-packages (from dash->dash-core-components==0.23.0) (1.1.1)\n",
      "Requirement already satisfied: plotly in c:\\users\\luci\\anaconda_\\lib\\site-packages (from dash->dash-core-components==0.23.0) (4.5.3)\n",
      "Requirement already satisfied: itsdangerous>=0.24 in c:\\users\\luci\\anaconda_\\lib\\site-packages (from Flask>=0.12->dash->dash-core-components==0.23.0) (1.1.0)\n",
      "Requirement already satisfied: click>=5.1 in c:\\users\\luci\\anaconda_\\lib\\site-packages (from Flask>=0.12->dash->dash-core-components==0.23.0) (7.0)\n",
      "Requirement already satisfied: Jinja2>=2.10.1 in c:\\users\\luci\\anaconda_\\lib\\site-packages (from Flask>=0.12->dash->dash-core-components==0.23.0) (2.10.1)\n",
      "Requirement already satisfied: Werkzeug>=0.15 in c:\\users\\luci\\anaconda_\\lib\\site-packages (from Flask>=0.12->dash->dash-core-components==0.23.0) (0.15.4)\n",
      "Requirement already satisfied: six in c:\\users\\luci\\anaconda_\\lib\\site-packages (from plotly->dash->dash-core-components==0.23.0) (1.12.0)\n",
      "Requirement already satisfied: retrying>=1.3.3 in c:\\users\\luci\\anaconda_\\lib\\site-packages (from plotly->dash->dash-core-components==0.23.0) (1.3.3)\n",
      "Requirement already satisfied: MarkupSafe>=0.23 in c:\\users\\luci\\anaconda_\\lib\\site-packages (from Jinja2>=2.10.1->Flask>=0.12->dash->dash-core-components==0.23.0) (1.1.1)\n",
      "Building wheels for collected packages: dash-core-components\n",
      "  Building wheel for dash-core-components (setup.py): started\n",
      "  Building wheel for dash-core-components (setup.py): finished with status 'done'\n",
      "  Stored in directory: C:\\Users\\Luci\\AppData\\Local\\pip\\Cache\\wheels\\55\\c2\\da\\1ac4291bb7a2857bc5cb2d6f1e3fbd407d5060cee36ce90928\n",
      "Successfully built dash-core-components\n",
      "Installing collected packages: dash-core-components\n",
      "  Found existing installation: dash-core-components 1.8.1\n",
      "    Uninstalling dash-core-components-1.8.1:\n",
      "      Successfully uninstalled dash-core-components-1.8.1\n",
      "Successfully installed dash-core-components-0.23.0\n",
      "Requirement already up-to-date: plotly in c:\\users\\luci\\anaconda_\\lib\\site-packages (4.5.3)\n",
      "Requirement already satisfied, skipping upgrade: six in c:\\users\\luci\\anaconda_\\lib\\site-packages (from plotly) (1.12.0)\n",
      "Requirement already satisfied, skipping upgrade: retrying>=1.3.3 in c:\\users\\luci\\anaconda_\\lib\\site-packages (from plotly) (1.3.3)\n"
     ]
    }
   ],
   "source": [
    "!pip install dash==0.21.1  \n",
    "!pip install dash-renderer==0.13.0  \n",
    "!pip install dash-html-components==0.11.0\n",
    "!pip install dash-core-components==0.23.0  \n",
    "!pip install plotly --upgrade"
   ]
  },
  {
   "cell_type": "code",
   "execution_count": null,
   "metadata": {},
   "outputs": [],
   "source": []
  }
 ],
 "metadata": {
  "kernelspec": {
   "display_name": "Python 3",
   "language": "python",
   "name": "python3"
  },
  "language_info": {
   "codemirror_mode": {
    "name": "ipython",
    "version": 3
   },
   "file_extension": ".py",
   "mimetype": "text/x-python",
   "name": "python",
   "nbconvert_exporter": "python",
   "pygments_lexer": "ipython3",
   "version": "3.7.3"
  },
  "varInspector": {
   "cols": {
    "lenName": 16,
    "lenType": 16,
    "lenVar": 40
   },
   "kernels_config": {
    "python": {
     "delete_cmd_postfix": "",
     "delete_cmd_prefix": "del ",
     "library": "var_list.py",
     "varRefreshCmd": "print(var_dic_list())"
    },
    "r": {
     "delete_cmd_postfix": ") ",
     "delete_cmd_prefix": "rm(",
     "library": "var_list.r",
     "varRefreshCmd": "cat(var_dic_list()) "
    }
   },
   "types_to_exclude": [
    "module",
    "function",
    "builtin_function_or_method",
    "instance",
    "_Feature"
   ],
   "window_display": false
  }
 },
 "nbformat": 4,
 "nbformat_minor": 2
}
